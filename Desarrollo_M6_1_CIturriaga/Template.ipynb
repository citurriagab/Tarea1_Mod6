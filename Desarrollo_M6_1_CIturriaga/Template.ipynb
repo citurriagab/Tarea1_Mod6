{
 "cells": [
  {
   "cell_type": "markdown",
   "metadata": {},
   "source": [
    "# Proyecto n° 1\n",
    "## Módulo 6: Técnicas de Análisis de Datos\n",
    "\n",
    "*Carla Iturriaga Barrios*\n",
    "\n",
    "*18.739.444-9*\n",
    "\n",
    "*Agosto, 2022*"
   ]
  },
  {
   "cell_type": "markdown",
   "metadata": {},
   "source": [
    "### Presentación del proyecto.\n",
    "\n",
    "*Una empresa dedicada a la compra y venta de vehículos usados, donde la **compra es anticipada** y la **venta es por modalidad de remate y venta al mejor postor**, obtiene pérdidas inmediatas a la hora de rematar algunos de sus vehículos, puesto que compran o aseguran el vehículo a un precio más alto del que, finalmente, se vende.*\n",
    "\n",
    "*A raíz de esto, **la empresa busca asegurar los vehículos a un precio igual o más bajo que el de adjudicación**.*"
   ]
  },
  {
   "cell_type": "markdown",
   "metadata": {},
   "source": [
    "### Objetivo del proyecto.\n",
    "\n",
    "1. *Construir un modelo que sea capaz de predecir el precio de venta de autos usados a partir de los resultados históricos de venta.*"
   ]
  },
  {
   "cell_type": "code",
   "execution_count": 1,
   "metadata": {},
   "outputs": [],
   "source": [
    "import codigo.dataset as d\n",
    "import codigo.models as m\n",
    "import codigo.metrics as me\n",
    "from sklearn.model_selection import train_test_split\n",
    "import pandas as pd\n",
    "import matplotlib.pyplot as plt\n",
    "import numpy as np\n",
    "import seaborn as sns\n",
    "import scipy\n",
    "from scipy import stats"
   ]
  },
  {
   "cell_type": "markdown",
   "metadata": {},
   "source": [
    "### 1. Datos\n",
    "\n",
    "**Corresponden a una base de datos histórica de las adjudicaciones de vehículos dentro de remates realizados entre 2019 y 2020.**\n",
    "\n",
    "**Cada registro entrega información sobre el vehículo, tales como año, kilometraje, unidad de origen, tracción, etc. Junto a su precio de venta/adjudicación.**\n",
    "\n",
    "*En adelante, se utilizaran las funciones definidas en el módulo `set_datos.py` para facilitar la gestión y manejo de los datos.*"
   ]
  },
  {
   "cell_type": "code",
   "execution_count": 2,
   "metadata": {},
   "outputs": [
    {
     "name": "stdout",
     "output_type": "stream",
     "text": [
      "Help on function load_result in module codigo.dataset:\n",
      "\n",
      "load_result(URL='https://raw.githubusercontent.com/citurriagab/Data_Hist_Resultados/main/RESULTADO_2019_2020.csv')\n",
      "    Va a buscar los resultados entre 2019 y 2020 de las adjudicaciones de vehículos en remates de la compania. Retorna \"X / input\" o variables dependientes (características del vehículo) e \"y / output\" correspondiente al precio de venta.'.\n",
      "\n",
      "Datos cargados con éxito\n"
     ]
    }
   ],
   "source": [
    "help(d.load_result)\n",
    "data = d.load_result()\n",
    "X, y = data['dataset']"
   ]
  },
  {
   "cell_type": "markdown",
   "metadata": {},
   "source": [
    "Las dimensiones del *dataset* [Resultados_2019_2020](https://raw.githubusercontent.com/citurriagab/Data_Hist_Resultados/main/RESULTADO_2019_2020.csv) son las siguientes:\n",
    "\n",
    "*Correspondientes a 5.436 registros de vehículos rematados entre los años definidos anteriormente, presentados en 7 diferentes variables dependientes sumado a la independiente.*"
   ]
  },
  {
   "cell_type": "code",
   "execution_count": 3,
   "metadata": {},
   "outputs": [
    {
     "data": {
      "text/plain": [
       "((5434, 7), (5434,))"
      ]
     },
     "execution_count": 3,
     "metadata": {},
     "output_type": "execute_result"
    }
   ],
   "source": [
    "X.shape, y.shape"
   ]
  },
  {
   "cell_type": "markdown",
   "metadata": {},
   "source": [
    "#### Previsualización del dataset \n",
    "\n",
    "*Al realizar una previsualización de los datos, se obtiene lo siguiente:*"
   ]
  },
  {
   "cell_type": "code",
   "execution_count": 4,
   "metadata": {},
   "outputs": [
    {
     "data": {
      "text/html": [
       "<div>\n",
       "<style scoped>\n",
       "    .dataframe tbody tr th:only-of-type {\n",
       "        vertical-align: middle;\n",
       "    }\n",
       "\n",
       "    .dataframe tbody tr th {\n",
       "        vertical-align: top;\n",
       "    }\n",
       "\n",
       "    .dataframe thead th {\n",
       "        text-align: right;\n",
       "    }\n",
       "</style>\n",
       "<table border=\"1\" class=\"dataframe\">\n",
       "  <thead>\n",
       "    <tr style=\"text-align: right;\">\n",
       "      <th></th>\n",
       "      <th>LOTE</th>\n",
       "      <th>UNIDAD</th>\n",
       "      <th>TIPO</th>\n",
       "      <th>ANHO</th>\n",
       "      <th>TRACC</th>\n",
       "      <th>COMB</th>\n",
       "      <th>KILOMETRAJE</th>\n",
       "    </tr>\n",
       "  </thead>\n",
       "  <tbody>\n",
       "    <tr>\n",
       "      <th>0</th>\n",
       "      <td>1</td>\n",
       "      <td>BFE</td>\n",
       "      <td>STATION WAGON</td>\n",
       "      <td>2018</td>\n",
       "      <td>4x4</td>\n",
       "      <td>B</td>\n",
       "      <td>41090</td>\n",
       "    </tr>\n",
       "    <tr>\n",
       "      <th>1</th>\n",
       "      <td>2</td>\n",
       "      <td>PARTICULARES</td>\n",
       "      <td>STATION WAGON</td>\n",
       "      <td>2018</td>\n",
       "      <td>4x2</td>\n",
       "      <td>D</td>\n",
       "      <td>113459</td>\n",
       "    </tr>\n",
       "    <tr>\n",
       "      <th>2</th>\n",
       "      <td>3</td>\n",
       "      <td>BFE</td>\n",
       "      <td>STATION WAGON</td>\n",
       "      <td>2017</td>\n",
       "      <td>4x4</td>\n",
       "      <td>B</td>\n",
       "      <td>32154</td>\n",
       "    </tr>\n",
       "    <tr>\n",
       "      <th>3</th>\n",
       "      <td>4</td>\n",
       "      <td>BFE</td>\n",
       "      <td>STATION WAGON</td>\n",
       "      <td>2020</td>\n",
       "      <td>4x2</td>\n",
       "      <td>B</td>\n",
       "      <td>13109</td>\n",
       "    </tr>\n",
       "    <tr>\n",
       "      <th>4</th>\n",
       "      <td>5</td>\n",
       "      <td>PARTICULARES</td>\n",
       "      <td>STATION WAGON</td>\n",
       "      <td>2020</td>\n",
       "      <td>4x4</td>\n",
       "      <td>B</td>\n",
       "      <td>2066</td>\n",
       "    </tr>\n",
       "  </tbody>\n",
       "</table>\n",
       "</div>"
      ],
      "text/plain": [
       "   LOTE        UNIDAD           TIPO  ANHO TRACC COMB  KILOMETRAJE\n",
       "0     1           BFE  STATION WAGON  2018   4x4    B        41090\n",
       "1     2  PARTICULARES  STATION WAGON  2018   4x2    D       113459\n",
       "2     3           BFE  STATION WAGON  2017   4x4    B        32154\n",
       "3     4           BFE  STATION WAGON  2020   4x2    B        13109\n",
       "4     5  PARTICULARES  STATION WAGON  2020   4x4    B         2066"
      ]
     },
     "execution_count": 4,
     "metadata": {},
     "output_type": "execute_result"
    }
   ],
   "source": [
    "X.head(5)"
   ]
  },
  {
   "cell_type": "code",
   "execution_count": 5,
   "metadata": {},
   "outputs": [
    {
     "data": {
      "text/plain": [
       "0    23100000\n",
       "1    14400000\n",
       "2    14700000\n",
       "3    13000000\n",
       "4    13600000\n",
       "Name: ADJUDIC, dtype: int64"
      ]
     },
     "execution_count": 5,
     "metadata": {},
     "output_type": "execute_result"
    }
   ],
   "source": [
    "y.head(5)"
   ]
  },
  {
   "cell_type": "markdown",
   "metadata": {},
   "source": [
    "**Preparación de los datos categóricos (dummies)**\n",
    "\n",
    "*Para llevar a cabo el siguiente análisis y construcción del modelo, previamente se trabajan las variables categóricas conviertiendolas en dummies*"
   ]
  },
  {
   "cell_type": "code",
   "execution_count": 6,
   "metadata": {},
   "outputs": [],
   "source": [
    "X['UNIDAD'] = X['UNIDAD'].astype('category')\n",
    "X['TIPO'] = X['TIPO'].astype('category')\n",
    "X['TRACC'] = X['TRACC'].astype('category')\n",
    "X['COMB'] = X['COMB'].astype('category')"
   ]
  },
  {
   "cell_type": "code",
   "execution_count": 7,
   "metadata": {},
   "outputs": [],
   "source": [
    "## dummies unidad\n",
    "unid_d = pd.get_dummies(X['UNIDAD'])\n",
    "## dummies tipo\n",
    "tipo_d = pd.get_dummies(X['TIPO'])\n",
    "## dummies traccion\n",
    "tracc_d = pd.get_dummies(X['TRACC'])\n",
    "## dummies combustible\n",
    "comb_d = pd.get_dummies(X['COMB'])\n",
    "comb_d = comb_d.rename(columns={'B':'Bencina',\n",
    "                                   'D':'Diesel'})\n"
   ]
  },
  {
   "cell_type": "code",
   "execution_count": 8,
   "metadata": {},
   "outputs": [],
   "source": [
    "##dummies unidad\n",
    "X2 = pd.concat([X, unid_d['AUTOMOTORAS']], axis=1)\n",
    "X2 = pd.concat([X2, unid_d['BFE']], axis=1)\n",
    "X2 = pd.concat([X2, unid_d['LEASING']], axis=1)\n",
    "X2 = pd.concat([X2, unid_d['LIQUIDACIONES']], axis=1)\n",
    "X2 = pd.concat([X2, unid_d['PARTICULARES']], axis=1)\n",
    "X2 = pd.concat([X2, unid_d['RENOVACIÓN ANTICIPADA']], axis=1)\n",
    "##dummies tipo\n",
    "X2 = pd.concat([X2, tipo_d['AMBULANCIA']], axis=1) \n",
    "X2 = pd.concat([X2, tipo_d['CAMION']], axis=1) \n",
    "X2 = pd.concat([X2, tipo_d['CAMIONETA']], axis=1) \n",
    "X2 = pd.concat([X2, tipo_d['FURGON']], axis=1) \n",
    "X2 = pd.concat([X2, tipo_d['HATCHBACK']], axis=1) \n",
    "X2 = pd.concat([X2, tipo_d['MINIBUS']], axis=1) \n",
    "X2 = pd.concat([X2, tipo_d['MOTOS']], axis=1) \n",
    "X2 = pd.concat([X2, tipo_d['SEDAN']], axis=1)   \n",
    "X2 = pd.concat([X2, tipo_d['STATION WAGON']], axis=1) \n",
    "X2 = pd.concat([X2, tipo_d['SUV/JEEP']], axis=1)\n",
    "##dummies traccion                 \n",
    "X2 = pd.concat([X2, tracc_d['2x2']], axis=1)   \n",
    "X2 = pd.concat([X2, tracc_d['4x2']], axis=1) \n",
    "X2 = pd.concat([X2, tracc_d['4x4']], axis=1)  \n",
    "##dummies combustible\n",
    "X2 = pd.concat([X2, comb_d['Bencina']], axis=1)\n",
    "X2 = pd.concat([X2, comb_d['Diesel']], axis=1)\n",
    "\n",
    "## eliminación de columnas categóricas originales.\n",
    "X2 = X2.drop(['UNIDAD'], axis=1)\n",
    "X2 = X2.drop(['TIPO'], axis=1)\n",
    "X2 = X2.drop(['TRACC'], axis=1)\n",
    "X2 = X2.drop(['COMB'], axis=1)"
   ]
  },
  {
   "cell_type": "markdown",
   "metadata": {},
   "source": [
    "*El nuevo dataset con la transformación de las variables categoricas, se compone de **28 columnas** en su X explicativa*\n",
    "\n",
    "**Previsualización de las nuevas variables explicativas X del dataset**"
   ]
  },
  {
   "cell_type": "code",
   "execution_count": 9,
   "metadata": {},
   "outputs": [
    {
     "data": {
      "text/plain": [
       "(5434, 24)"
      ]
     },
     "execution_count": 9,
     "metadata": {},
     "output_type": "execute_result"
    }
   ],
   "source": [
    "X2.shape"
   ]
  },
  {
   "cell_type": "code",
   "execution_count": 10,
   "metadata": {},
   "outputs": [
    {
     "data": {
      "text/html": [
       "<div>\n",
       "<style scoped>\n",
       "    .dataframe tbody tr th:only-of-type {\n",
       "        vertical-align: middle;\n",
       "    }\n",
       "\n",
       "    .dataframe tbody tr th {\n",
       "        vertical-align: top;\n",
       "    }\n",
       "\n",
       "    .dataframe thead th {\n",
       "        text-align: right;\n",
       "    }\n",
       "</style>\n",
       "<table border=\"1\" class=\"dataframe\">\n",
       "  <thead>\n",
       "    <tr style=\"text-align: right;\">\n",
       "      <th></th>\n",
       "      <th>LOTE</th>\n",
       "      <th>ANHO</th>\n",
       "      <th>KILOMETRAJE</th>\n",
       "      <th>AUTOMOTORAS</th>\n",
       "      <th>BFE</th>\n",
       "      <th>LEASING</th>\n",
       "      <th>LIQUIDACIONES</th>\n",
       "      <th>PARTICULARES</th>\n",
       "      <th>RENOVACIÓN ANTICIPADA</th>\n",
       "      <th>AMBULANCIA</th>\n",
       "      <th>...</th>\n",
       "      <th>MINIBUS</th>\n",
       "      <th>MOTOS</th>\n",
       "      <th>SEDAN</th>\n",
       "      <th>STATION WAGON</th>\n",
       "      <th>SUV/JEEP</th>\n",
       "      <th>2x2</th>\n",
       "      <th>4x2</th>\n",
       "      <th>4x4</th>\n",
       "      <th>Bencina</th>\n",
       "      <th>Diesel</th>\n",
       "    </tr>\n",
       "  </thead>\n",
       "  <tbody>\n",
       "    <tr>\n",
       "      <th>0</th>\n",
       "      <td>1</td>\n",
       "      <td>2018</td>\n",
       "      <td>41090</td>\n",
       "      <td>0</td>\n",
       "      <td>1</td>\n",
       "      <td>0</td>\n",
       "      <td>0</td>\n",
       "      <td>0</td>\n",
       "      <td>0</td>\n",
       "      <td>0</td>\n",
       "      <td>...</td>\n",
       "      <td>0</td>\n",
       "      <td>0</td>\n",
       "      <td>0</td>\n",
       "      <td>1</td>\n",
       "      <td>0</td>\n",
       "      <td>0</td>\n",
       "      <td>0</td>\n",
       "      <td>1</td>\n",
       "      <td>1</td>\n",
       "      <td>0</td>\n",
       "    </tr>\n",
       "    <tr>\n",
       "      <th>1</th>\n",
       "      <td>2</td>\n",
       "      <td>2018</td>\n",
       "      <td>113459</td>\n",
       "      <td>0</td>\n",
       "      <td>0</td>\n",
       "      <td>0</td>\n",
       "      <td>0</td>\n",
       "      <td>1</td>\n",
       "      <td>0</td>\n",
       "      <td>0</td>\n",
       "      <td>...</td>\n",
       "      <td>0</td>\n",
       "      <td>0</td>\n",
       "      <td>0</td>\n",
       "      <td>1</td>\n",
       "      <td>0</td>\n",
       "      <td>0</td>\n",
       "      <td>1</td>\n",
       "      <td>0</td>\n",
       "      <td>0</td>\n",
       "      <td>1</td>\n",
       "    </tr>\n",
       "    <tr>\n",
       "      <th>2</th>\n",
       "      <td>3</td>\n",
       "      <td>2017</td>\n",
       "      <td>32154</td>\n",
       "      <td>0</td>\n",
       "      <td>1</td>\n",
       "      <td>0</td>\n",
       "      <td>0</td>\n",
       "      <td>0</td>\n",
       "      <td>0</td>\n",
       "      <td>0</td>\n",
       "      <td>...</td>\n",
       "      <td>0</td>\n",
       "      <td>0</td>\n",
       "      <td>0</td>\n",
       "      <td>1</td>\n",
       "      <td>0</td>\n",
       "      <td>0</td>\n",
       "      <td>0</td>\n",
       "      <td>1</td>\n",
       "      <td>1</td>\n",
       "      <td>0</td>\n",
       "    </tr>\n",
       "  </tbody>\n",
       "</table>\n",
       "<p>3 rows × 24 columns</p>\n",
       "</div>"
      ],
      "text/plain": [
       "   LOTE  ANHO  KILOMETRAJE  AUTOMOTORAS  BFE  LEASING  LIQUIDACIONES  \\\n",
       "0     1  2018        41090            0    1        0              0   \n",
       "1     2  2018       113459            0    0        0              0   \n",
       "2     3  2017        32154            0    1        0              0   \n",
       "\n",
       "   PARTICULARES  RENOVACIÓN ANTICIPADA  AMBULANCIA  ...  MINIBUS  MOTOS  \\\n",
       "0             0                      0           0  ...        0      0   \n",
       "1             1                      0           0  ...        0      0   \n",
       "2             0                      0           0  ...        0      0   \n",
       "\n",
       "   SEDAN  STATION WAGON  SUV/JEEP  2x2  4x2  4x4  Bencina  Diesel  \n",
       "0      0              1         0    0    0    1        1       0  \n",
       "1      0              1         0    0    1    0        0       1  \n",
       "2      0              1         0    0    0    1        1       0  \n",
       "\n",
       "[3 rows x 24 columns]"
      ]
     },
     "execution_count": 10,
     "metadata": {},
     "output_type": "execute_result"
    }
   ],
   "source": [
    "X2.head(3)"
   ]
  },
  {
   "cell_type": "markdown",
   "metadata": {},
   "source": [
    "#### Análisis Estadístico\n",
    "\n",
    "**¿Existen valores nulos o indeterminados en la variable independiente \"Adjudicación\"**"
   ]
  },
  {
   "cell_type": "code",
   "execution_count": 11,
   "metadata": {},
   "outputs": [
    {
     "data": {
      "text/plain": [
       "0"
      ]
     },
     "execution_count": 11,
     "metadata": {},
     "output_type": "execute_result"
    }
   ],
   "source": [
    "y.isna().sum()"
   ]
  },
  {
   "cell_type": "markdown",
   "metadata": {},
   "source": [
    "*No existen registros con información indeterminada en la \"adjudicación\", es decir, la base de datos consta de todos los vehículos que fueron rematados a un determinado precio de venta*"
   ]
  },
  {
   "cell_type": "markdown",
   "metadata": {},
   "source": [
    "**Estadística básica de la variable independiente \"Adjudicación\":**"
   ]
  },
  {
   "cell_type": "code",
   "execution_count": 12,
   "metadata": {},
   "outputs": [
    {
     "data": {
      "text/plain": [
       "count    5.434000e+03\n",
       "mean     6.207532e+06\n",
       "std      2.694229e+06\n",
       "min      3.300000e+05\n",
       "25%      4.400000e+06\n",
       "50%      5.900000e+06\n",
       "75%      7.600000e+06\n",
       "max      4.550000e+07\n",
       "Name: ADJUDIC, dtype: float64"
      ]
     },
     "execution_count": 12,
     "metadata": {},
     "output_type": "execute_result"
    }
   ],
   "source": [
    "y.describe()"
   ]
  },
  {
   "cell_type": "markdown",
   "metadata": {},
   "source": [
    "*El precio de venta o adjudicación de los vehículos se mueve entre $330.000 y $45.500.000. Lo cual indica desde un principio que existen bienes que la brecha es grande entre el vehículo que se remata más barato en contraste con el más caro.*\n",
    "\n",
    "*Además, la media y la mediana se distancian en $300.000, con una media mayor que la mediana, **indicando una distribución sesgada a la derecha**.*"
   ]
  },
  {
   "cell_type": "markdown",
   "metadata": {},
   "source": [
    "**Identificación de valores outliers en variable independiente \"Adjudicación\"**"
   ]
  },
  {
   "cell_type": "code",
   "execution_count": 13,
   "metadata": {},
   "outputs": [
    {
     "name": "stdout",
     "output_type": "stream",
     "text": [
      "Limite inferior:  -400000.0\n",
      "Limite superior:  12400000.0\n",
      "Registros sobre el limite sup:  129\n"
     ]
    },
    {
     "data": {
      "image/png": "[encoded data removed]",
      "text/plain": [
       "<Figure size 720x480 with 1 Axes>"
      ]
     },
     "metadata": {
      "needs_background": "light"
     },
     "output_type": "display_data"
    }
   ],
   "source": [
    "plt.figure(dpi=120);\n",
    "plt.boxplot(y)\n",
    "plt.title('Boxplot de Adjudicación', fontsize=15)\n",
    "plt.ylabel('Adj', fontsize=10)\n",
    "plt.text(6.5, -3.25, '')\n",
    "\n",
    "#cuartiles\n",
    "q3, q1 = np.percentile(y, [75, 25])\n",
    "iqr = q3-q1\n",
    "lim_sup = q3 + (1.5*iqr)\n",
    "lim_inf = q1 - (1.5*iqr)\n",
    "\n",
    "# limites\n",
    "print('Limite inferior: ', lim_inf)\n",
    "print('Limite superior: ', lim_sup)\n",
    "print('Registros sobre el limite sup: ', y[y>lim_sup].count())"
   ]
  },
  {
   "cell_type": "markdown",
   "metadata": {},
   "source": [
    "*De acuerdo al gráfico de boxplot anterior, se obtiene que la variable \"Adjudicación\" presenta valores atípicos al sobrepasar el precio de venta de $12.400.000, concentrando su movimiento bajo dicho valor.*\n",
    "\n",
    "*Son **129 las observaciones outliers**, significando el **2,3% de la base total**. Sin embargo, se asume que se debe a autos de lujo o con características especiales que será importante conservar dentro del análisis. Por lo que, **se decide no excluir ni imputar dichas adjudicaciones atípicos**.*"
   ]
  },
  {
   "cell_type": "markdown",
   "metadata": {},
   "source": [
    "**Distribución de la variable independiente \"Adjudicación\"**"
   ]
  },
  {
   "cell_type": "code",
   "execution_count": 14,
   "metadata": {},
   "outputs": [
    {
     "data": {
      "image/png": "[encoded data removed]",
      "text/plain": [
       "<Figure size 432x288 with 1 Axes>"
      ]
     },
     "metadata": {
      "needs_background": "light"
     },
     "output_type": "display_data"
    }
   ],
   "source": [
    "plt.hist(y, color=\"deeppink\");\n",
    "plt.axvline(y.mean(), linestyle='--', label='Promedio', color='black');\n",
    "plt.title('Distribución Adjudicaciones según Precio de Venta');\n",
    "plt.legend(frameon=False);"
   ]
  },
  {
   "cell_type": "markdown",
   "metadata": {},
   "source": [
    "**Distribución de la variable independiente \"Adjudicación\" sin outliers**\n",
    "\n",
    "*El gráfico de distribución del precio de venta puede ser más claro y excluimos los valores atípicos, sólo para efectos visuales*\n"
   ]
  },
  {
   "cell_type": "code",
   "execution_count": 15,
   "metadata": {},
   "outputs": [
    {
     "data": {
      "image/png": "[encoded data removed]",
      "text/plain": [
       "<Figure size 432x288 with 1 Axes>"
      ]
     },
     "metadata": {
      "needs_background": "light"
     },
     "output_type": "display_data"
    }
   ],
   "source": [
    "y1 = y[y<=lim_sup]\n",
    "\n",
    "plt.hist(y1, color=\"purple\");\n",
    "plt.axvline(y.mean(), linestyle='--', label='Promedio', color='black');\n",
    "plt.title('Distribución Adjudicaciones según Precio de Venta');\n",
    "plt.legend(frameon=False);"
   ]
  },
  {
   "cell_type": "markdown",
   "metadata": {},
   "source": [
    "*Al excluir los valores outliers de la muestra para visualizar la **distribución de la adjudicación**, el comportamiento parece ser normal, formando una campana de gauss casi perfecta.*\n",
    "\n",
    "*Sin embargo, como anteriormente se mencionó, la media toma un valor menor que la mediana, presentando un pequeño sesgo hacia la derecha.*"
   ]
  },
  {
   "cell_type": "markdown",
   "metadata": {},
   "source": [
    "**Preparación de la base de datos: Entrenamiento y Testeo**\n",
    "\n",
    "*Previo a construir el modelo, se dividirá la base de datos total en dos, ello con la intención de que el modelo conozca y trabaje con determinados datos \"de Entrenamiento\" y pueda probar su efectividad en datos desconocidos \"de Testeo\".*\n",
    "\n",
    "*La base de Entrenamiento se preparará con el 90% de los datos: 4.892 registros, mientras que se probarán resultados con los 544 restantes.*"
   ]
  },
  {
   "cell_type": "code",
   "execution_count": 17,
   "metadata": {},
   "outputs": [],
   "source": [
    "X_train, X_test, y_train, y_test = train_test_split(X2, y, test_size=0.1, random_state=42)"
   ]
  },
  {
   "cell_type": "code",
   "execution_count": 18,
   "metadata": {},
   "outputs": [
    {
     "data": {
      "text/plain": [
       "((4890, 24), (544, 24))"
      ]
     },
     "execution_count": 18,
     "metadata": {},
     "output_type": "execute_result"
    }
   ],
   "source": [
    "X_train.shape, X_test.shape"
   ]
  },
  {
   "cell_type": "code",
   "execution_count": 19,
   "metadata": {},
   "outputs": [
    {
     "data": {
      "text/plain": [
       "((4890,), (544,))"
      ]
     },
     "execution_count": 19,
     "metadata": {},
     "output_type": "execute_result"
    }
   ],
   "source": [
    "y_train.shape, y_test.shape"
   ]
  },
  {
   "cell_type": "markdown",
   "metadata": {},
   "source": [
    "**Visualizaciones con la Data a Entrenar**"
   ]
  },
  {
   "cell_type": "markdown",
   "metadata": {},
   "source": [
    "* *Gráfico de dispersión del **Precio de adjudicación/venta** respecto al **Tipo de vehículo** y **Año de fabricación**.*\n",
    "\n",
    "*La siguiente visualización expresa que mientras más nuevo es el vehículo, más alto es su precio de venta y que entre menos uso del vehículo más caro se vende (km)*\n",
    "\n",
    "*Sin embargo, dentro del mismo gráfico, se presentan anomalías indicando que, dentro de los resultados históricos, vehículos con fecha de fabricación cercana al 2016, tienen resultados favorables a pesar de presentar altos kilometrajes (excesivos respecto al resto), de acuerdo a los colores más oscuros de los puntos.*"
   ]
  },
  {
   "cell_type": "code",
   "execution_count": 20,
   "metadata": {},
   "outputs": [
    {
     "data": {
      "image/png": "[encoded data removed]",
      "text/plain": [
       "<Figure size 720x480 with 2 Axes>"
      ]
     },
     "metadata": {
      "needs_background": "light"
     },
     "output_type": "display_data"
    }
   ],
   "source": [
    "plt.figure(dpi=120);\n",
    "CMAP='PuRd'\n",
    "plt.scatter(X_train['ANHO'], X_train['KILOMETRAJE'], c=y_train, \n",
    "            cmap=CMAP, alpha=.2);\n",
    "plt.colorbar(orientation='vertical', shrink=0.7).set_label(label='Precio_Adjudicación', size=7.5);\n",
    "plt.xlabel('Año Fabricación');\n",
    "plt.ylabel('KM');"
   ]
  },
  {
   "cell_type": "markdown",
   "metadata": {},
   "source": [
    "### 2. Modelos\n",
    "\n",
    "**Se llevará a cabo la construcción de 2 Modelos de Regresión: Lineal múltiple y Vecino más cercano, con las diferentes variables dependientes (características del vehículo) y la variable independiente (precio de adjudicación/venta).**\n",
    "\n",
    "*En adelante, se utilizaran las funciones definidas en el módulo `modelo.py` para facilitar la gestión y construcción del modelo.*"
   ]
  },
  {
   "cell_type": "markdown",
   "metadata": {},
   "source": [
    "* Entrenamiento de modelos de Regresión: Lineal y KNN. \n",
    "\n",
    "*Se utilizan datos de entrenamiento para la construcción del modelo (90% de la base)*"
   ]
  },
  {
   "cell_type": "code",
   "execution_count": 22,
   "metadata": {},
   "outputs": [],
   "source": [
    "mod_reg_lineal = m.reg_lineal(X_train, y_train.values.ravel())\n",
    "modelo_reg_KNN = m.reg_KNN(X_train, y_train.values.ravel())"
   ]
  },
  {
   "cell_type": "markdown",
   "metadata": {},
   "source": [
    "* Predicción con modelos de Regresión: Lineal y KNN. \n",
    "\n",
    "*Ya creado y entrenado el modelo, se utilizan los datos que, anteriormente, se separaron de la base para testeo (10% de la base)*"
   ]
  },
  {
   "cell_type": "code",
   "execution_count": 23,
   "metadata": {},
   "outputs": [],
   "source": [
    "reg_lineal_pred = mod_reg_lineal.predict(X_test)\n",
    "reg_knn_preds = modelo_reg_KNN.predict(X_test)"
   ]
  },
  {
   "cell_type": "markdown",
   "metadata": {},
   "source": [
    "### 3. Métricas de Evaluación\n",
    "\n",
    "**Con el entrenamiento de los modelos de regresión Lineal y KNN, se procesó la predicción de los datos de testeo y para comprobar y evaluar qué tan buenos son los modelos recientemente presentados, se llevará a cabo el cálculo de métricas asociadas al éxito del modelo al predecir datos.**\n",
    "\n",
    "*En adelante, se utilizaran las funciones definidas en el módulo `metricas.py` para facilitar la evaluación y comprobación del éxito de los modelos.*"
   ]
  },
  {
   "cell_type": "markdown",
   "metadata": {},
   "source": [
    "* Desempeño de los modelos según Coeficiente de Determinación:"
   ]
  },
  {
   "cell_type": "code",
   "execution_count": 24,
   "metadata": {},
   "outputs": [
    {
     "name": "stdout",
     "output_type": "stream",
     "text": [
      "Desempeño regresión lineal según r2: 0.5076733845838555\n",
      "Desempeño KNN regresión según r2: 0.39584460211051353\n"
     ]
    }
   ],
   "source": [
    "print(f'Desempeño regresión lineal según r2: {me.met_r2(y_test, reg_lineal_pred)}')\n",
    "print(f'Desempeño KNN regresión según r2: {me.met_r2(y_test, reg_knn_preds)}')"
   ]
  },
  {
   "cell_type": "markdown",
   "metadata": {},
   "source": [
    "* Desempeño de los modelos según Error Cuadrático Medio:"
   ]
  },
  {
   "cell_type": "code",
   "execution_count": 25,
   "metadata": {},
   "outputs": [
    {
     "name": "stdout",
     "output_type": "stream",
     "text": [
      "Desempeño regresión lineal según MSE: 3428307426164.4814\n",
      "Desempeño KNN regresión según MSE: 4207025117647.0586\n"
     ]
    }
   ],
   "source": [
    "print(f'Desempeño regresión lineal según MSE: {me.met_mse(y_test, reg_lineal_pred)}')\n",
    "print(f'Desempeño KNN regresión según MSE: {me.met_mse(y_test, reg_knn_preds)}')"
   ]
  },
  {
   "cell_type": "markdown",
   "metadata": {},
   "source": [
    "* Desempeño de los modelos según la Raíz del Error Cuadrático Medio:"
   ]
  },
  {
   "cell_type": "code",
   "execution_count": 26,
   "metadata": {},
   "outputs": [
    {
     "name": "stdout",
     "output_type": "stream",
     "text": [
      "Desempeño regresión lineal según RMSE: 1851568.9093750957\n",
      "Desempeño KNN regresión según RMSE: 2051103.3902870568\n"
     ]
    }
   ],
   "source": [
    "print(f'Desempeño regresión lineal según RMSE: {me.met_rmse(y_test, reg_lineal_pred)}')\n",
    "print(f'Desempeño KNN regresión según RMSE: {me.met_rmse(y_test, reg_knn_preds)}')"
   ]
  },
  {
   "cell_type": "markdown",
   "metadata": {},
   "source": [
    "* Desempeño de los modelos según Error Cuadrático Medio Logarítmico:"
   ]
  },
  {
   "cell_type": "code",
   "execution_count": 27,
   "metadata": {},
   "outputs": [
    {
     "name": "stdout",
     "output_type": "stream",
     "text": [
      "Desempeño regresión lineal según MSLE: 0.08488015353556222\n",
      "Desempeño KNN regresión según MSLE: 0.118347362887648\n"
     ]
    }
   ],
   "source": [
    "print(f'Desempeño regresión lineal según MSLE: {me.met_msle(y_test, reg_lineal_pred)}')\n",
    "print(f'Desempeño KNN regresión según MSLE: {me.met_msle(y_test, reg_knn_preds)}')"
   ]
  },
  {
   "cell_type": "markdown",
   "metadata": {},
   "source": [
    "* Desempeño de los modelos según Error Cuadrático Absoluto:\n"
   ]
  },
  {
   "cell_type": "code",
   "execution_count": 28,
   "metadata": {},
   "outputs": [
    {
     "name": "stdout",
     "output_type": "stream",
     "text": [
      "Desempeño regresión lineal según MAE: 1295132.048445105\n",
      "Desempeño KNN regresión según MAE: 1444022.0588235294\n"
     ]
    }
   ],
   "source": [
    "print(f'Desempeño regresión lineal según MAE: {me.met_mae(y_test, reg_lineal_pred)}')\n",
    "print(f'Desempeño KNN regresión según MAE: {me.met_mae(y_test, reg_knn_preds)}')"
   ]
  },
  {
   "cell_type": "markdown",
   "metadata": {},
   "source": [
    "* Desempeño de los modelos según Error Absoluto Medio Porcentual:"
   ]
  },
  {
   "cell_type": "code",
   "execution_count": 29,
   "metadata": {},
   "outputs": [
    {
     "name": "stdout",
     "output_type": "stream",
     "text": [
      "Desempeño regresión lineal según MAPE: 0.2311703921387609\n",
      "Desempeño KNN regresión según MAPE: 0.2843911105853502\n"
     ]
    }
   ],
   "source": [
    "print(f'Desempeño regresión lineal según MAPE: {me.met_mape(y_test, reg_lineal_pred)}')\n",
    "print(f'Desempeño KNN regresión según MAPE: {me.met_mape(y_test, reg_knn_preds)}')"
   ]
  },
  {
   "cell_type": "markdown",
   "metadata": {},
   "source": [
    "*Según lo expuesto con anterioridad, cada una de las métricas conceden como mejor modelo de predicción al Modelo de Regresión Lineal Múltiple por sobre el de KNN, de lo cual se puede decir lo siguiente:*\n",
    "\n",
    "* **Lineal Múltiple obtuvo un mayor coeficiente de determinación R2**, *indicando que es capaz de predecir acertadamente en un 51% de los casos, mientras que el KNN, sólo el 40%*\n",
    "\n",
    "* **Lineal Múltiple obtuvo un menor resultados en todas las métricas MSE, RMSE, MSLE, MAE y MAPE**, *indicando mejores índices en términos de predictor.*\n",
    "\n",
    "*No obstante, si bien el Modelo de Regresión Lineal Múltiple se concluye como mejor modelo predictor, éste no es un modelo robusto, dado que se esperaría que su éxito en predicciones superara el 80%, al menos.*\n",
    "\n",
    "*Por lo tanto, respecto al objetivo propuesto al inicio del proyecto, con la data propuesta no es posible construir un modelo que sea capaz de anticiparse y proveer de una predicción del precio de adjudicación de los vehículos que se comprarán en el futuro.*\n",
    "\n",
    "*Posiblemente, se requieran mayores especificaciones del vehículo para otorgarle mayor robustez al modelo y ser capaces de predecir correctamente el precio de adjudicación.*\n"
   ]
  }
 ],
 "metadata": {
  "kernelspec": {
   "display_name": "Python 3.10.4 64-bit",
   "language": "python",
   "name": "python3"
  },
  "language_info": {
   "codemirror_mode": {
    "name": "ipython",
    "version": 3
   },
   "file_extension": ".py",
   "mimetype": "text/x-python",
   "name": "python",
   "nbconvert_exporter": "python",
   "pygments_lexer": "ipython3",
   "version": "3.10.4"
  },
  "orig_nbformat": 4,
  "vscode": {
   "interpreter": {
    "hash": "2406143cb3293c6f26dd99450e8195f7bd25a7328b6e4b716954e94e61f82fa7"
   }
  }
 },
 "nbformat": 4,
 "nbformat_minor": 2
}
