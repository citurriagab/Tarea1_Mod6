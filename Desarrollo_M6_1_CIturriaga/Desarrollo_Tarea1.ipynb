{
 "cells": [
  {
   "cell_type": "markdown",
   "metadata": {},
   "source": [
    "# Proyecto n° 1\n",
    "## Módulo 6: Técnicas de Análisis de Datos\n",
    "\n",
    "*Carla Iturriaga Barrios*\n",
    "\n",
    "*Agosto, 2022*"
   ]
  },
  {
   "cell_type": "markdown",
   "metadata": {},
   "source": [
    "### Presentación del proyecto.\n",
    "\n",
    "*Una empresa dedicada a la compra y venta de vehículos usados, donde la **compra es anticipada** y la **venta es por modalidad de remate y venta al mejor postor**, obtiene pérdidas inmediatas a la hora de rematar algunos de sus vehículos, puesto que compran o aseguran el vehículo a un precio más alto del que, finalmente, se vende.*\n",
    "\n",
    "*A raíz de esto, **la empresa busca asegurar los vehículos a un precio igual o más bajo que el de adjudicación**.*"
   ]
  },
  {
   "cell_type": "markdown",
   "metadata": {},
   "source": [
    "### Objetivos del proyecto.\n",
    "\n",
    "1. *Conocer las características que impactan el precio de venta del vehículo y en qué magnitud.*\n",
    "\n",
    "2. *Predecir el precio de venta de autos usados a partir de los resultados históricos de venta.*"
   ]
  },
  {
   "cell_type": "code",
   "execution_count": 1,
   "metadata": {},
   "outputs": [],
   "source": [
    "import codigo_y_data.dataset as d\n",
    "##import proj_code.model as m\n",
    "##import proj_code.metric as me\n",
    "from sklearn.model_selection import train_test_split\n",
    "import matplotlib.pyplot as plt\n",
    "import numpy as np"
   ]
  },
  {
   "cell_type": "markdown",
   "metadata": {},
   "source": [
    "### 1. Datos\n",
    "\n",
    "**Corresponden a una base de datos histórica de las adjudicaciones de vehículos dentro de remates realizados entre 2019 y 2020.**\n",
    "\n",
    "**Cada registro entrega información sobre el vehículo, tales como marca, modelo, versión, año, kilometraje, origen, etc. Junto al precio asegurado y su precio de venta/adjudicación.**\n",
    "\n",
    "*En adelante, se utilizaran las funciones definidas en el módulo `dataset.py` para facilitar la gestión y manejo de los datos.*"
   ]
  },
  {
   "cell_type": "code",
   "execution_count": 2,
   "metadata": {},
   "outputs": [
    {
     "name": "stdout",
     "output_type": "stream",
     "text": [
      "Help on function load_result in module codigo_y_data.dataset:\n",
      "\n",
      "load_result(URL='https://raw.githubusercontent.com/citurriagab/Data_Hist_Resultados/main/RESULTADO_2019_2020.csv')\n",
      "    Va a buscar los resultados entre 2019 y 2020 de las adjudicaciones de vehículos en remates de la compania. Retorna \"X / input\" o variables dependientes (características del vehículo) e \"y / output\" correspondiente al precio de venta.'.\n",
      "\n",
      "Datos cargados con éxito\n"
     ]
    }
   ],
   "source": [
    "help(d.load_result)\n",
    "data = d.load_result()\n",
    "X, y = data['dataset']"
   ]
  },
  {
   "cell_type": "markdown",
   "metadata": {},
   "source": [
    "Las dimensiones del *dataset* [Resultados_2019_2020](https://raw.githubusercontent.com/citurriagab/Data_Hist_Resultados/main/RESULTADO_2019_2020.csv) son las siguientes:\n",
    "\n",
    "*Correspondientes a 5.436 registros de vehículos rematados entre los años definidos anteriormente, presentados en 12 diferentes variables dependientes sumado a la independiente.*"
   ]
  },
  {
   "cell_type": "code",
   "execution_count": 3,
   "metadata": {},
   "outputs": [
    {
     "data": {
      "text/plain": [
       "((5436, 12), (5436,))"
      ]
     },
     "execution_count": 3,
     "metadata": {},
     "output_type": "execute_result"
    }
   ],
   "source": [
    "X.shape, y.shape"
   ]
  },
  {
   "cell_type": "markdown",
   "metadata": {},
   "source": [
    "#### Previsualización del dataset \n",
    "\n",
    "Al realizar una previsualización de los datos, se obtiene lo siguiente:"
   ]
  },
  {
   "cell_type": "code",
   "execution_count": 5,
   "metadata": {},
   "outputs": [
    {
     "data": {
      "text/html": [
       "<div>\n",
       "<style scoped>\n",
       "    .dataframe tbody tr th:only-of-type {\n",
       "        vertical-align: middle;\n",
       "    }\n",
       "\n",
       "    .dataframe tbody tr th {\n",
       "        vertical-align: top;\n",
       "    }\n",
       "\n",
       "    .dataframe thead th {\n",
       "        text-align: right;\n",
       "    }\n",
       "</style>\n",
       "<table border=\"1\" class=\"dataframe\">\n",
       "  <thead>\n",
       "    <tr style=\"text-align: right;\">\n",
       "      <th></th>\n",
       "      <th>FECHA</th>\n",
       "      <th>LOTE</th>\n",
       "      <th>UNIDAD</th>\n",
       "      <th>TIPO</th>\n",
       "      <th>MARCA</th>\n",
       "      <th>MODELO</th>\n",
       "      <th>ANHO</th>\n",
       "      <th>TRACC</th>\n",
       "      <th>COMB</th>\n",
       "      <th>GTIA_MEC</th>\n",
       "      <th>MAG</th>\n",
       "      <th>KILOMETRAJE</th>\n",
       "    </tr>\n",
       "  </thead>\n",
       "  <tbody>\n",
       "    <tr>\n",
       "      <th>0</th>\n",
       "      <td>29-07-2020</td>\n",
       "      <td>1</td>\n",
       "      <td>BFE</td>\n",
       "      <td>STATION WAGON</td>\n",
       "      <td>CHEVROLET</td>\n",
       "      <td>SUBURBAN 4X4 5.3 AUT</td>\n",
       "      <td>2018</td>\n",
       "      <td>4x4</td>\n",
       "      <td>B</td>\n",
       "      <td>NaN</td>\n",
       "      <td>20850000</td>\n",
       "      <td>41090.0</td>\n",
       "    </tr>\n",
       "    <tr>\n",
       "      <th>1</th>\n",
       "      <td>29-07-2020</td>\n",
       "      <td>2</td>\n",
       "      <td>PARTICULARES</td>\n",
       "      <td>STATION WAGON</td>\n",
       "      <td>KIA MOTORS</td>\n",
       "      <td>GRAND CARNIVAL EX 2.2 AUT</td>\n",
       "      <td>2018</td>\n",
       "      <td>4x2</td>\n",
       "      <td>D</td>\n",
       "      <td>NaN</td>\n",
       "      <td>13000000</td>\n",
       "      <td>113459.0</td>\n",
       "    </tr>\n",
       "    <tr>\n",
       "      <th>2</th>\n",
       "      <td>29-07-2020</td>\n",
       "      <td>3</td>\n",
       "      <td>BFE</td>\n",
       "      <td>STATION WAGON</td>\n",
       "      <td>BMW</td>\n",
       "      <td>X1 SDRIVE20I LUXURY 2.0 AUT</td>\n",
       "      <td>2017</td>\n",
       "      <td>AWD</td>\n",
       "      <td>B</td>\n",
       "      <td>NaN</td>\n",
       "      <td>10403228</td>\n",
       "      <td>32154.0</td>\n",
       "    </tr>\n",
       "    <tr>\n",
       "      <th>3</th>\n",
       "      <td>29-07-2020</td>\n",
       "      <td>4</td>\n",
       "      <td>BFE</td>\n",
       "      <td>STATION WAGON</td>\n",
       "      <td>CHEVROLET</td>\n",
       "      <td>CAPTIVA PREMIER 1.5</td>\n",
       "      <td>2020</td>\n",
       "      <td>4x2</td>\n",
       "      <td>B</td>\n",
       "      <td>NaN</td>\n",
       "      <td>8730000</td>\n",
       "      <td>13109.0</td>\n",
       "    </tr>\n",
       "    <tr>\n",
       "      <th>4</th>\n",
       "      <td>29-07-2020</td>\n",
       "      <td>5</td>\n",
       "      <td>PARTICULARES</td>\n",
       "      <td>STATION WAGON</td>\n",
       "      <td>SEAT</td>\n",
       "      <td>ATECA 4X4 1.4 AUT</td>\n",
       "      <td>2020</td>\n",
       "      <td>4x4</td>\n",
       "      <td>B</td>\n",
       "      <td>NaN</td>\n",
       "      <td>11000000</td>\n",
       "      <td>2066.0</td>\n",
       "    </tr>\n",
       "  </tbody>\n",
       "</table>\n",
       "</div>"
      ],
      "text/plain": [
       "        FECHA  LOTE        UNIDAD           TIPO       MARCA  \\\n",
       "0  29-07-2020     1           BFE  STATION WAGON   CHEVROLET   \n",
       "1  29-07-2020     2  PARTICULARES  STATION WAGON  KIA MOTORS   \n",
       "2  29-07-2020     3           BFE  STATION WAGON         BMW   \n",
       "3  29-07-2020     4           BFE  STATION WAGON   CHEVROLET   \n",
       "4  29-07-2020     5  PARTICULARES  STATION WAGON        SEAT   \n",
       "\n",
       "                        MODELO  ANHO TRACC COMB  GTIA_MEC       MAG  \\\n",
       "0         SUBURBAN 4X4 5.3 AUT  2018   4x4    B       NaN  20850000   \n",
       "1    GRAND CARNIVAL EX 2.2 AUT  2018   4x2    D       NaN  13000000   \n",
       "2  X1 SDRIVE20I LUXURY 2.0 AUT  2017   AWD    B       NaN  10403228   \n",
       "3          CAPTIVA PREMIER 1.5  2020   4x2    B       NaN   8730000   \n",
       "4            ATECA 4X4 1.4 AUT  2020   4x4    B       NaN  11000000   \n",
       "\n",
       "   KILOMETRAJE  \n",
       "0      41090.0  \n",
       "1     113459.0  \n",
       "2      32154.0  \n",
       "3      13109.0  \n",
       "4       2066.0  "
      ]
     },
     "execution_count": 5,
     "metadata": {},
     "output_type": "execute_result"
    }
   ],
   "source": [
    "X.head(5)"
   ]
  },
  {
   "cell_type": "code",
   "execution_count": 4,
   "metadata": {},
   "outputs": [
    {
     "data": {
      "text/plain": [
       "0    23100000\n",
       "1    14400000\n",
       "2    14700000\n",
       "3    13000000\n",
       "4    13600000\n",
       "Name: ADJUDIC, dtype: int64"
      ]
     },
     "execution_count": 4,
     "metadata": {},
     "output_type": "execute_result"
    }
   ],
   "source": [
    "y.head(5)"
   ]
  },
  {
   "cell_type": "markdown",
   "metadata": {},
   "source": [
    "#### Análisis Estadístico\n",
    "\n",
    "**¿Existen valores nulos o indeterminados en la variable independiente \"Adjudicación\"**"
   ]
  },
  {
   "cell_type": "code",
   "execution_count": 6,
   "metadata": {},
   "outputs": [
    {
     "data": {
      "text/plain": [
       "0"
      ]
     },
     "execution_count": 6,
     "metadata": {},
     "output_type": "execute_result"
    }
   ],
   "source": [
    "y.isna().sum()"
   ]
  },
  {
   "cell_type": "markdown",
   "metadata": {},
   "source": [
    "*No existen registros con información indeterminada en la \"adjudicación\", es decir, la base de datos consta de todos los vehículos que fueron rematados a un determinado precio de venta*"
   ]
  },
  {
   "cell_type": "markdown",
   "metadata": {},
   "source": [
    "**Estadística básica de la variable independiente \"Adjudicación\":**"
   ]
  },
  {
   "cell_type": "code",
   "execution_count": 7,
   "metadata": {},
   "outputs": [
    {
     "data": {
      "text/plain": [
       "count    5.436000e+03\n",
       "mean     6.206003e+06\n",
       "std      2.694914e+06\n",
       "min      3.300000e+05\n",
       "25%      4.400000e+06\n",
       "50%      5.900000e+06\n",
       "75%      7.600000e+06\n",
       "max      4.550000e+07\n",
       "Name: ADJUDIC, dtype: float64"
      ]
     },
     "execution_count": 7,
     "metadata": {},
     "output_type": "execute_result"
    }
   ],
   "source": [
    "y.describe()"
   ]
  },
  {
   "cell_type": "markdown",
   "metadata": {},
   "source": [
    "*El precio de venta o adjudicación de los vehículos se mueve entre $330.000 y $45.500.000. Lo cual indica desde un principio que existen bienes que la brecha es grande entre el vehículo que se remata más barato en contraste con el más caro.*\n",
    "\n",
    "*Además, la media y la mediana se distancian en $300.000, con una media mayor que la mediana, **indicando una distribución sesgada a la derecha**.*"
   ]
  },
  {
   "cell_type": "markdown",
   "metadata": {},
   "source": [
    "**Identificación de valores outliers en variable independiente \"Adjudicación\"**"
   ]
  },
  {
   "cell_type": "code",
   "execution_count": 8,
   "metadata": {},
   "outputs": [
    {
     "name": "stdout",
     "output_type": "stream",
     "text": [
      "Limite inferior:  -400000.0\n",
      "Limite superior:  12400000.0\n",
      "Registros sobre el limite sup:  129\n"
     ]
    },
    {
     "data": {
      "image/png": "[encoded data removed]",
      "text/plain": [
       "<Figure size 720x480 with 1 Axes>"
      ]
     },
     "metadata": {
      "needs_background": "light"
     },
     "output_type": "display_data"
    }
   ],
   "source": [
    "plt.figure(dpi=120);\n",
    "plt.boxplot(y)\n",
    "plt.title('Boxplot de Adjudicación', fontsize=15)\n",
    "plt.ylabel('Adj', fontsize=10)\n",
    "plt.text(6.5, -3.25, '')\n",
    "\n",
    "#cuartiles\n",
    "q3, q1 = np.percentile(y, [75, 25])\n",
    "iqr = q3-q1\n",
    "lim_sup = q3 + (1.5*iqr)\n",
    "lim_inf = q1 - (1.5*iqr)\n",
    "\n",
    "# limites\n",
    "print('Limite inferior: ', lim_inf)\n",
    "print('Limite superior: ', lim_sup)\n",
    "print('Registros sobre el limite sup: ', y[y>lim_sup].count())"
   ]
  },
  {
   "cell_type": "markdown",
   "metadata": {},
   "source": [
    "*De acuerdo al gráfico de boxplot anterior, se obtiene que la variable \"Adjudicación\" presenta valores atípicos al sobrepasar el precio de venta de $12.400.000, concentrando su movimiento bajo dicho valor.*\n",
    "\n",
    "*Son **129 las observaciones outliers**, significando el **2,3% de la base total**. Sin embargo, se asume que se debe a autos de lujo o con características especiales que será importante conservar dentro del análisis. Por lo que, **se decide no excluir ni imputar dichas adjudicaciones atípicos**.*"
   ]
  },
  {
   "cell_type": "markdown",
   "metadata": {},
   "source": [
    "**Distribución de la variable independiente \"Adjudicación\"**"
   ]
  },
  {
   "cell_type": "code",
   "execution_count": 9,
   "metadata": {},
   "outputs": [
    {
     "data": {
      "image/png": "[encoded data removed]",
      "text/plain": [
       "<Figure size 432x288 with 1 Axes>"
      ]
     },
     "metadata": {
      "needs_background": "light"
     },
     "output_type": "display_data"
    }
   ],
   "source": [
    "plt.hist(y, color=\"deeppink\");\n",
    "plt.axvline(y.mean(), linestyle='--', label='Promedio', color='black');\n",
    "plt.title('Distribución Adjudicaciones según Precio de Venta');\n",
    "plt.legend(frameon=False);"
   ]
  },
  {
   "cell_type": "markdown",
   "metadata": {},
   "source": [
    "**Distribución de la variable independiente \"Adjudicación\" sin outliers**\n",
    "\n",
    "*El gráfico de distribución del precio de venta puede ser más claro y excluimos los valores atípicos, sólo para efectos visuales*\n"
   ]
  },
  {
   "cell_type": "code",
   "execution_count": 10,
   "metadata": {},
   "outputs": [
    {
     "data": {
      "image/png": "[encoded data removed]",
      "text/plain": [
       "<Figure size 432x288 with 1 Axes>"
      ]
     },
     "metadata": {
      "needs_background": "light"
     },
     "output_type": "display_data"
    }
   ],
   "source": [
    "y1 = y[y<=lim_sup]\n",
    "\n",
    "plt.hist(y1, color=\"purple\");\n",
    "plt.axvline(y.mean(), linestyle='--', label='Promedio', color='black');\n",
    "plt.title('Distribución Adjudicaciones según Precio de Venta');\n",
    "plt.legend(frameon=False);"
   ]
  },
  {
   "cell_type": "markdown",
   "metadata": {},
   "source": [
    "*Al excluir los valores outliers de la muestra para visualizar la **distribución de la adjudicación**, el comportamiento parece ser normal, formando una campana de gauss casi perfecta.*\n",
    "\n",
    "*Sin embargo, como anteriormente se mencionó, la media toma un valor menor que la mediana, presentando un pequeño sesgo hacia la derecha.*"
   ]
  },
  {
   "cell_type": "markdown",
   "metadata": {},
   "source": [
    "### Modelo\n",
    "\n"
   ]
  },
  {
   "cell_type": "markdown",
   "metadata": {},
   "source": []
  },
  {
   "cell_type": "code",
   "execution_count": 68,
   "metadata": {},
   "outputs": [
    {
     "ename": "SyntaxError",
     "evalue": "invalid syntax (2430456958.py, line 1)",
     "output_type": "error",
     "traceback": [
      "\u001b[1;36m  Input \u001b[1;32mIn [68]\u001b[1;36m\u001b[0m\n\u001b[1;33m    * separar la data en 2 o 3 (entrenar, testear y validar) con una semilla\u001b[0m\n\u001b[1;37m              ^\u001b[0m\n\u001b[1;31mSyntaxError\u001b[0m\u001b[1;31m:\u001b[0m invalid syntax\n"
     ]
    }
   ],
   "source": [
    "Sección en que se utilizaremos los modelos especificados en el módulo `model.py`.\n",
    "\n",
    "´Entrenaremos dos modelos:´\n",
    "\n",
    "* Regresión Logistica\n",
    "* Naive Bayess \n",
    "\n",
    "Los que requieren los datos de entrenamiento que consisten en pares de inputs (`X_train`) y output (`y_train`). Diferentes formas, pero que finalmente usaran los datos para \"aprender\" y ajustar sus parámetros.''\n",
    "\n",
    "* separar la data en 2 o 3 (entrenar, testear y validar) con una semilla\n",
    "* shape de train y test\n",
    "* previsualización de train y test\n",
    "* visualización ilustrativa??? -> scatter de "
   ]
  },
  {
   "cell_type": "markdown",
   "metadata": {},
   "source": [
    "*"
   ]
  },
  {
   "cell_type": "code",
   "execution_count": null,
   "metadata": {},
   "outputs": [],
   "source": [
    "#@title\n",
    "plt.figure(dpi=120);\n",
    "CMAP='PuRd'\n",
    "plt.scatter(X['Longitude'], X['Latitude'], c=y['target'], \n",
    "            cmap=CMAP, alpha=.2);\n",
    "plt.colorbar(orientation='vertical', shrink=0.7).set_label(label='MedHouseVal', size=7.5);\n",
    "plt.xlabel('Longitude');\n",
    "plt.ylabel('Latitude');"
   ]
  }
 ],
 "metadata": {
  "kernelspec": {
   "display_name": "Python 3.10.4 64-bit",
   "language": "python",
   "name": "python3"
  },
  "language_info": {
   "codemirror_mode": {
    "name": "ipython",
    "version": 3
   },
   "file_extension": ".py",
   "mimetype": "text/x-python",
   "name": "python",
   "nbconvert_exporter": "python",
   "pygments_lexer": "ipython3",
   "version": "3.10.4"
  },
  "orig_nbformat": 4,
  "vscode": {
   "interpreter": {
    "hash": "2406143cb3293c6f26dd99450e8195f7bd25a7328b6e4b716954e94e61f82fa7"
   }
  }
 },
 "nbformat": 4,
 "nbformat_minor": 2
}
